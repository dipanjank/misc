{
 "cells": [
  {
   "cell_type": "markdown",
   "id": "bdaf9555",
   "metadata": {},
   "source": [
    "$ X = \\begin{bmatrix}x_{11} & x_{12} \\\\ x_{21} & x_{22} \\\\ x_{31} & x_{32} \\end{bmatrix}, R = \\begin{bmatrix}r_{1} \\\\ r_{2} \\end{bmatrix}$"
   ]
  },
  {
   "cell_type": "markdown",
   "id": "b35a5991",
   "metadata": {},
   "source": [
    "$ XR = \\begin{bmatrix} x_{11} r_1 + x_{12} r_2 \\\\ x_{21} r_1 + x_{22} r_2 \\\\ x_{31} r_1 + x_{32} r_2 \\end{bmatrix}$ "
   ]
  },
  {
   "cell_type": "markdown",
   "id": "ecf79c30",
   "metadata": {},
   "source": [
    "$L$ = Squared Frobenius norm of $XR$ = $\\sum_{i,j} (a_{ij})^2$ for each element $a_{ij}$ in $XR$."
   ]
  },
  {
   "cell_type": "markdown",
   "id": "bd8119bc",
   "metadata": {},
   "source": [
    "$L = r_{1}^2(x_{11}^2 + x_{21}^2 + x_{31}^2) + r_{2}^2(x_{12}^2 + x_{22}^2 + x_{32}^2) + 2r_{1}r_{2}(x_{11}x_{12} + x_{21}x_{22} + x_{31}x_{32})$\n",
    "\n",
    "Note that $L$ is a scalar."
   ]
  },
  {
   "cell_type": "markdown",
   "id": "f54ed4a6",
   "metadata": {},
   "source": [
    "Taking partial derivatives of $L$ w.r.t $r_{1}$ and $r_{2}$:\n",
    "\n",
    "$\\dfrac {\\partial L}{\\partial r_{1}} = 2r_{1}(x_{11}^2 + x_{21}^2 + x_{31}^2) + 2r_{2}(x_{11}x_{12} + x_{21}x_{22} + x_{31}x_{32})$ \n",
    "\n",
    "$\\dfrac {\\partial L}{\\partial r_{2}} = 2r_{2}(x_{12}^2 + x_{22}^2 + x_{32}^2) + 2r_{1}(x_{11}x_{12} + x_{21}x_{22} + x_{31}x_{32})$ "
   ]
  },
  {
   "cell_type": "markdown",
   "id": "fb253c3b",
   "metadata": {},
   "source": [
    "$\\dfrac{\\partial L} {\\partial R} = \\begin{bmatrix} \\dfrac {\\partial L} {\\partial r_{1}} \\\\ \\dfrac {\\partial L} {\\partial r_{2}} \\end{bmatrix} = \\begin{bmatrix} 2r_{1}(x_{11}^2 + x_{21}^2 + x_{31}^2) + 2r_{2}(x_{11}x_{12} + x_{21}x_{22} + x_{31}x_{32}) \\\\ 2r_{2}(x_{12}^2 + x_{22}^2 + x_{32}^2) + 2r_{1}(x_{11}x_{12} + x_{21}x_{22} + x_{31}x_{32}) \\end{bmatrix}$\n",
    "\n",
    "The right hand term can be factored as\n",
    "\n",
    "2 $\\begin{bmatrix} x_{11}^2 + x_{21}^2 + x_{31}^2 & x_{11}x_{12} + x_{21}x_{22} + x_{31}x_{32} \\\\ x_{11}x_{12} + x_{21}x_{22} + x_{31}x_{32} & x_{12}^2 + x_{22}^2 + x_{32}^2 \\end{bmatrix} \\begin{bmatrix} r_1 \\\\ r_2 \\end{bmatrix} = \\begin{bmatrix} x_{11} & x_{21} & x_{31} \\\\ x_{12} & x_{22} & x_{32} \\end{bmatrix} \\begin{bmatrix} x_{11} & x_{12} \\\\ x_{21} & x_{22} \\\\ x_{31} & x_{32} \\end{bmatrix} \\begin{bmatrix} r_1 \\\\ r_2 \\end{bmatrix}$\n",
    "\n",
    "Which is nothing but $X^{T}XR$"
   ]
  }
 ],
 "metadata": {
  "kernelspec": {
   "display_name": "Python 3",
   "language": "python",
   "name": "python3"
  },
  "language_info": {
   "codemirror_mode": {
    "name": "ipython",
    "version": 3
   },
   "file_extension": ".py",
   "mimetype": "text/x-python",
   "name": "python",
   "nbconvert_exporter": "python",
   "pygments_lexer": "ipython3",
   "version": "3.8.8"
  }
 },
 "nbformat": 4,
 "nbformat_minor": 5
}
